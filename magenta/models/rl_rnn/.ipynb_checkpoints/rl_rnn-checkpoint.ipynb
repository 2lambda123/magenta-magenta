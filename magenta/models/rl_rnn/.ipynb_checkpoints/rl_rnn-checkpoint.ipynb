{
 "cells": [
  {
   "cell_type": "code",
   "execution_count": 5,
   "metadata": {
    "collapsed": true
   },
   "outputs": [],
   "source": [
    "import tensorflow as tf\n",
    "import magenta as mg\n",
    "import numpy as np\n",
    "import sys"
   ]
  },
  {
   "cell_type": "code",
   "execution_count": 6,
   "metadata": {
    "collapsed": false
   },
   "outputs": [],
   "source": [
    "RL_PATH = \"/home/natasha/Developer/magenta_my_fork/magenta/magenta/models/rl_rnn\"\n",
    "sys.path.append(RL_PATH)"
   ]
  },
  {
   "cell_type": "code",
   "execution_count": 12,
   "metadata": {
    "collapsed": false
   },
   "outputs": [],
   "source": [
    "import melody_q\n",
    "import rl_rnn_ops"
   ]
  },
  {
   "cell_type": "code",
   "execution_count": null,
   "metadata": {
    "collapsed": true
   },
   "outputs": [],
   "source": [
    "# File locations\n",
    "CHECKPOINT_DIR = ''\n",
    "CHECKPOINT_PATH = ''\n",
    "MIDI_PRIMER = ''\n",
    "OUTPUT_DIR = '/tmp/melodyq'\n",
    "LOG_DIR = '/tmp/melodyq/melody_q_model'\n",
    "TRAINING_DATA_PATH = ''"
   ]
  },
  {
   "cell_type": "code",
   "execution_count": null,
   "metadata": {
    "collapsed": true
   },
   "outputs": [],
   "source": [
    "# Model parameter settings\n",
    "hparams = rops.small_model_hparams()\n",
    "PRIME_WITH_MIDI = False"
   ]
  }
 ],
 "metadata": {
  "kernelspec": {
   "display_name": "Python 2",
   "language": "python",
   "name": "python2"
  },
  "language_info": {
   "codemirror_mode": {
    "name": "ipython",
    "version": 2
   },
   "file_extension": ".py",
   "mimetype": "text/x-python",
   "name": "python",
   "nbconvert_exporter": "python",
   "pygments_lexer": "ipython2",
   "version": "2.7.12"
  }
 },
 "nbformat": 4,
 "nbformat_minor": 0
}

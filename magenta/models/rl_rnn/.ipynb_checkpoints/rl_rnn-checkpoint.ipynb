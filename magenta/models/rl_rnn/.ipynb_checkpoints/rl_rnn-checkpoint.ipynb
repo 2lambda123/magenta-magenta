{
 "cells": [
  {
   "cell_type": "code",
   "execution_count": 5,
   "metadata": {
    "collapsed": true
   },
   "outputs": [],
   "source": [
    "import tensorflow as tf\n",
    "import magenta as mg\n",
    "import numpy as np\n",
    "import sys"
   ]
  },
  {
   "cell_type": "code",
   "execution_count": 6,
   "metadata": {
    "collapsed": false
   },
   "outputs": [],
   "source": [
    "RL_PATH = \"/home/natasha/Developer/magenta_my_fork/magenta/magenta/models/rl_rnn\"\n",
    "sys.path.append(RL_PATH)"
   ]
  },
  {
   "cell_type": "code",
   "execution_count": 12,
   "metadata": {
    "collapsed": false
   },
   "outputs": [],
   "source": [
    "import melody_q\n",
    "import rl_rnn_ops"
   ]
  },
  {
   "cell_type": "code",
   "execution_count": 13,
   "metadata": {
    "collapsed": true
   },
   "outputs": [],
   "source": [
    "# File locations\n",
    "CHECKPOINT_DIR = RL_PATH + '/testdata'\n",
    "CHECKPOINT_PATH = CHECKPOINT_DIR + '/model.ckpt-1994'\n",
    "MIDI_PRIMER = RL_PATH + '/testdata/primer.mid'\n",
    "OUTPUT_DIR = '/home/natasha/Dropbox (MIT)/Google/Project/rl_rnn_output'\n",
    "LOG_DIR = '/home/natasha/Dropbox (MIT)/Google/Project/rl_rnn_output/rl_rnn_model.ckpt'\n",
    "TRAINING_DATA_PATH = ''"
   ]
  },
  {
   "cell_type": "code",
   "execution_count": null,
   "metadata": {
    "collapsed": true
   },
   "outputs": [],
   "source": [
    "# Model parameter settings\n",
    "hparams = rops.small_model_hparams()\n",
    "PRIME_WITH_MIDI = False\n",
    "\n",
    "dqn_hparams = tf.HParams(random_action_probability=0.1,\n",
    "                         store_every_nth=1,\n",
    "                         train_every_nth=5,\n",
    "                         minibatch_size=32,\n",
    "                         discount_rate=0.5,\n",
    "                         max_experience=100000,\n",
    "                         target_network_update_rate=0.01)"
   ]
  }
 ],
 "metadata": {
  "kernelspec": {
   "display_name": "Python 2",
   "language": "python",
   "name": "python2"
  },
  "language_info": {
   "codemirror_mode": {
    "name": "ipython",
    "version": 2
   },
   "file_extension": ".py",
   "mimetype": "text/x-python",
   "name": "python",
   "nbconvert_exporter": "python",
   "pygments_lexer": "ipython2",
   "version": "2.7.12"
  }
 },
 "nbformat": 4,
 "nbformat_minor": 0
}

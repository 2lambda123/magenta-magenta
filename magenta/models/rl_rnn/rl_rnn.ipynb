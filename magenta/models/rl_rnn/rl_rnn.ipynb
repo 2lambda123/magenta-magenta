{
 "cells": [
  {
   "cell_type": "code",
   "execution_count": 16,
   "metadata": {
    "collapsed": true
   },
   "outputs": [],
   "source": [
    "import tensorflow as tf\n",
    "import magenta as mg\n",
    "import numpy as np\n",
    "import sys\n",
    "\n",
    "from magenta.lib import tf_lib"
   ]
  },
  {
   "cell_type": "code",
   "execution_count": 6,
   "metadata": {
    "collapsed": false
   },
   "outputs": [],
   "source": [
    "RL_PATH = \"/home/natasha/Developer/magenta_my_fork/magenta/magenta/models/rl_rnn\"\n",
    "sys.path.append(RL_PATH)"
   ]
  },
  {
   "cell_type": "code",
   "execution_count": 12,
   "metadata": {
    "collapsed": false
   },
   "outputs": [],
   "source": [
    "import melody_q\n",
    "import rl_rnn_ops"
   ]
  },
  {
   "cell_type": "code",
   "execution_count": 13,
   "metadata": {
    "collapsed": true
   },
   "outputs": [],
   "source": [
    "# File locations\n",
    "CHECKPOINT_DIR = RL_PATH + '/testdata'\n",
    "CHECKPOINT_PATH = CHECKPOINT_DIR + '/model.ckpt-1994'\n",
    "MIDI_PRIMER = RL_PATH + '/testdata/primer.mid'\n",
    "OUTPUT_DIR = '/home/natasha/Dropbox (MIT)/Google/Project/rl_rnn_output'\n",
    "LOG_DIR = '/home/natasha/Dropbox (MIT)/Google/Project/rl_rnn_output/rl_rnn_model.ckpt'\n",
    "TRAINING_DATA_PATH = ''"
   ]
  },
  {
   "cell_type": "code",
   "execution_count": 20,
   "metadata": {
    "collapsed": false
   },
   "outputs": [],
   "source": [
    "# Model parameter settings\n",
    "hparams = rl_rnn_ops.small_model_hparams()\n",
    "PRIME_WITH_MIDI = False\n",
    "\n"
   ]
  },
  {
   "cell_type": "code",
   "execution_count": 21,
   "metadata": {
    "collapsed": true
   },
   "outputs": [],
   "source": [
    "dqn_hparams = tf_lib.HParams(random_action_probability=0.1,\n",
    "                         store_every_nth=1,\n",
    "                         train_every_nth=5,\n",
    "                         minibatch_size=32,\n",
    "                         discount_rate=0.5,\n",
    "                         max_experience=100000,\n",
    "                         target_network_update_rate=0.01)"
   ]
  },
  {
   "cell_type": "code",
   "execution_count": 19,
   "metadata": {
    "collapsed": false
   },
   "outputs": [
    {
     "data": {
      "text/plain": [
       "<module 'melody_q' from 'melody_q.pyc'>"
      ]
     },
     "execution_count": 19,
     "metadata": {},
     "output_type": "execute_result"
    }
   ],
   "source": [
    "reload(rl_rnn_ops)\n",
    "reload(melody_q)"
   ]
  },
  {
   "cell_type": "code",
   "execution_count": 24,
   "metadata": {
    "collapsed": false
   },
   "outputs": [
    {
     "ename": "AttributeError",
     "evalue": "'module' object has no attribute 'AdamOptimizer'",
     "output_type": "error",
     "traceback": [
      "\u001b[0;31m---------------------------------------------------------------------------\u001b[0m",
      "\u001b[0;31mAttributeError\u001b[0m                            Traceback (most recent call last)",
      "\u001b[0;32m<ipython-input-24-38f98dea1f02>\u001b[0m in \u001b[0;36m<module>\u001b[0;34m()\u001b[0m\n\u001b[1;32m      6\u001b[0m                                  \u001b[0mcustom_hparams\u001b[0m\u001b[0;34m=\u001b[0m\u001b[0mhparams\u001b[0m\u001b[0;34m,\u001b[0m\u001b[0;34m\u001b[0m\u001b[0m\n\u001b[1;32m      7\u001b[0m                                  \u001b[0mnum_notes_in_melody\u001b[0m\u001b[0;34m=\u001b[0m\u001b[0;36m64\u001b[0m\u001b[0;34m,\u001b[0m\u001b[0;34m\u001b[0m\u001b[0m\n\u001b[0;32m----> 8\u001b[0;31m                                  stochastic_observations=False)\n\u001b[0m",
      "\u001b[0;32m/home/natasha/Developer/magenta_my_fork/magenta/magenta/models/rl_rnn/melody_q.pyc\u001b[0m in \u001b[0;36m__init__\u001b[0;34m(self, output_dir, log_dir, melody_checkpoint_dir, midi_primer, dqn_hparams, reward_mode, reward_scaler, priming_mode, stochastic_observations, num_notes_in_melody, input_size, num_actions, output_every_nth, backup_checkpoint_file, training_data_path, summary_writer, custom_hparams, initialize_immediately)\u001b[0m\n\u001b[1;32m    167\u001b[0m           self.dqn_hparams.target_network_update_rate)\n\u001b[1;32m    168\u001b[0m \u001b[0;34m\u001b[0m\u001b[0m\n\u001b[0;32m--> 169\u001b[0;31m       \u001b[0mself\u001b[0m\u001b[0;34m.\u001b[0m\u001b[0moptimizer\u001b[0m \u001b[0;34m=\u001b[0m \u001b[0mtf\u001b[0m\u001b[0;34m.\u001b[0m\u001b[0mAdamOptimizer\u001b[0m\u001b[0;34m(\u001b[0m\u001b[0;34m)\u001b[0m\u001b[0;34m\u001b[0m\u001b[0m\n\u001b[0m\u001b[1;32m    170\u001b[0m \u001b[0;34m\u001b[0m\u001b[0m\n\u001b[1;32m    171\u001b[0m       \u001b[0;31m# DQN state.\u001b[0m\u001b[0;34m\u001b[0m\u001b[0;34m\u001b[0m\u001b[0m\n",
      "\u001b[0;31mAttributeError\u001b[0m: 'module' object has no attribute 'AdamOptimizer'"
     ]
    }
   ],
   "source": [
    "rl_net = melody_q.MelodyQNetwork(OUTPUT_DIR, LOG_DIR, CHECKPOINT_DIR,\n",
    "                                 MIDI_PRIMER, dqn_hparams=dqn_hparams, \n",
    "                                 reward_scaler=2.0,\n",
    "                                 output_every_nth=1000, \n",
    "                                 training_data_path=TRAINING_DATA_PATH,\n",
    "                                 custom_hparams=hparams,\n",
    "                                 num_notes_in_melody=64,\n",
    "                                 stochastic_observations=False)"
   ]
  },
  {
   "cell_type": "code",
   "execution_count": null,
   "metadata": {
    "collapsed": true
   },
   "outputs": [],
   "source": []
  }
 ],
 "metadata": {
  "kernelspec": {
   "display_name": "Python 2",
   "language": "python",
   "name": "python2"
  },
  "language_info": {
   "codemirror_mode": {
    "name": "ipython",
    "version": 2
   },
   "file_extension": ".py",
   "mimetype": "text/x-python",
   "name": "python",
   "nbconvert_exporter": "python",
   "pygments_lexer": "ipython2",
   "version": "2.7.12"
  }
 },
 "nbformat": 4,
 "nbformat_minor": 0
}

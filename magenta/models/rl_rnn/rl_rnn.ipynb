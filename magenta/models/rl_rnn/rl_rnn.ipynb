{
 "cells": [
  {
   "cell_type": "code",
   "execution_count": 1,
   "metadata": {
    "collapsed": false
   },
   "outputs": [],
   "source": [
    "import tensorflow as tf\n",
    "import magenta as mg\n",
    "import numpy as np\n",
    "import sys\n",
    "\n",
    "from magenta.lib import tf_lib"
   ]
  },
  {
   "cell_type": "code",
   "execution_count": 2,
   "metadata": {
    "collapsed": true
   },
   "outputs": [],
   "source": [
    "LINUX = False"
   ]
  },
  {
   "cell_type": "code",
   "execution_count": 3,
   "metadata": {
    "collapsed": false
   },
   "outputs": [],
   "source": [
    "if LINUX:\n",
    "    RL_PATH = \"/home/natasha/Developer/magenta_my_fork/magenta/magenta/models/rl_rnn\"\n",
    "    DROPBOX_PATH = \"/home/natasha/Dropbox (MIT)/\"\n",
    "else:\n",
    "    RL_PATH = \"/Users/natasha/Developer/magenta/magenta/magenta/models/rl_rnn\"\n",
    "    DROPBOX_PATH = \"/Users/natasha/Dropbox (MIT)/\""
   ]
  },
  {
   "cell_type": "code",
   "execution_count": 4,
   "metadata": {
    "collapsed": false
   },
   "outputs": [],
   "source": [
    "sys.path.append(RL_PATH)\n",
    "import melody_q\n",
    "import rl_rnn_ops"
   ]
  },
  {
   "cell_type": "code",
   "execution_count": 10,
   "metadata": {
    "collapsed": false
   },
   "outputs": [],
   "source": [
    "# File locations\n",
    "CHECKPOINT_DIR = RL_PATH + '/testdata'\n",
    "CHECKPOINT_FILE = CHECKPOINT_DIR + '/model.ckpt-1994'\n",
    "MIDI_PRIMER = RL_PATH + '/testdata/primer.mid'\n",
    "OUTPUT_DIR = DROPBOX_PATH + 'Google/Project/rl_rnn_output'\n",
    "LOG_DIR = DROPBOX_PATH + 'Google/Project/rl_rnn_output/rl_rnn_model.ckpt'\n",
    "TRAINING_DATA_PATH = ''"
   ]
  },
  {
   "cell_type": "code",
   "execution_count": 6,
   "metadata": {
    "collapsed": false
   },
   "outputs": [],
   "source": [
    "# Model parameter settings\n",
    "hparams = rl_rnn_ops.small_model_hparams()\n",
    "PRIME_WITH_MIDI = False"
   ]
  },
  {
   "cell_type": "code",
   "execution_count": 7,
   "metadata": {
    "collapsed": true
   },
   "outputs": [],
   "source": [
    "dqn_hparams = tf_lib.HParams(random_action_probability=0.1,\n",
    "                         store_every_nth=1,\n",
    "                         train_every_nth=5,\n",
    "                         minibatch_size=32,\n",
    "                         discount_rate=0.5,\n",
    "                         max_experience=100000,\n",
    "                         target_network_update_rate=0.01)"
   ]
  },
  {
   "cell_type": "markdown",
   "metadata": {},
   "source": [
    "## Train network"
   ]
  },
  {
   "cell_type": "code",
   "execution_count": 8,
   "metadata": {
    "collapsed": false
   },
   "outputs": [
    {
     "data": {
      "text/plain": [
       "<module 'melody_q' from 'melody_q.pyc'>"
      ]
     },
     "execution_count": 8,
     "metadata": {},
     "output_type": "execute_result"
    }
   ],
   "source": [
    "reload(rl_rnn_ops)\n",
    "reload(melody_q)"
   ]
  },
  {
   "cell_type": "code",
   "execution_count": 12,
   "metadata": {
    "collapsed": false
   },
   "outputs": [],
   "source": [
    "rl_net = melody_q.MelodyQNetwork(OUTPUT_DIR, LOG_DIR, CHECKPOINT_DIR,\n",
    "                                 MIDI_PRIMER, dqn_hparams=dqn_hparams, \n",
    "                                 reward_scaler=2.0,\n",
    "                                 output_every_nth=1000, \n",
    "                                 training_file_list=[TRAINING_DATA_PATH],\n",
    "                                 backup_checkpoint_file=CHECKPOINT_FILE,\n",
    "                                 custom_hparams=hparams,\n",
    "                                 num_notes_in_melody=64,\n",
    "                                 stochastic_observations=False,\n",
    "                                 initialize_immediately=False)"
   ]
  },
  {
   "cell_type": "code",
   "execution_count": 13,
   "metadata": {
    "collapsed": false
   },
   "outputs": [
    {
     "name": "stderr",
     "output_type": "stream",
     "text": [
      "WARNING:tensorflow:<tensorflow.python.ops.rnn_cell.BasicLSTMCell object at 0x115a255d0>: Using a concatenated state is slower and will soon be deprecated.  Use state_is_tuple=True.\n",
      "WARNING:tensorflow:<tensorflow.python.ops.rnn_cell.BasicLSTMCell object at 0x115a255d0>: Using a concatenated state is slower and will soon be deprecated.  Use state_is_tuple=True.\n",
      "WARNING:tensorflow:<tensorflow.python.ops.rnn_cell.BasicLSTMCell object at 0x1158a7390>: Using a concatenated state is slower and will soon be deprecated.  Use state_is_tuple=True.\n",
      "WARNING:tensorflow:<tensorflow.python.ops.rnn_cell.BasicLSTMCell object at 0x1158a7390>: Using a concatenated state is slower and will soon be deprecated.  Use state_is_tuple=True.\n",
      "WARNING:tensorflow:<tensorflow.python.ops.rnn_cell.BasicLSTMCell object at 0x115b7cfd0>: Using a concatenated state is slower and will soon be deprecated.  Use state_is_tuple=True.\n",
      "WARNING:tensorflow:<tensorflow.python.ops.rnn_cell.BasicLSTMCell object at 0x115b7cfd0>: Using a concatenated state is slower and will soon be deprecated.  Use state_is_tuple=True.\n"
     ]
    }
   ],
   "source": [
    "rl_net.initialize_internal_models_graph_session(restore_from_checkpoint=False)"
   ]
  },
  {
   "cell_type": "code",
   "execution_count": 15,
   "metadata": {
    "collapsed": false
   },
   "outputs": [
    {
     "name": "stdout",
     "output_type": "stream",
     "text": [
      "q_network/RNN/MultiRNNCell/Cell0/BasicLSTMCell/Linear/Matrix:0\n",
      "q_network/RNN/MultiRNNCell/Cell0/BasicLSTMCell/Linear/Bias:0\n",
      "q_network/fully_connected/weights:0\n",
      "q_network/fully_connected/bias:0\n"
     ]
    }
   ],
   "source": [
    "for v in rl_net.q_network.variables():\n",
    "    print v.name"
   ]
  },
  {
   "cell_type": "code",
   "execution_count": 16,
   "metadata": {
    "collapsed": false
   },
   "outputs": [
    {
     "data": {
      "text/plain": [
       "['rnn_model/rnn_model/fully_connected/weights/Adagrad (DT_FLOAT) [100,38]',\n",
       " 'rnn_model/rnn_model/RNN/MultiRNNCell/Cell0/LSTMCell/W_0/Adagrad (DT_FLOAT) [138,400]',\n",
       " 'rnn_model/rnn_model/RNN/MultiRNNCell/Cell0/LSTMCell/B/Adagrad (DT_FLOAT) [400]',\n",
       " 'rnn_model/fully_connected/bias (DT_FLOAT) [38]',\n",
       " 'rnn_model/rnn_model/fully_connected/bias/Adagrad (DT_FLOAT) [38]',\n",
       " 'rnn_model/RNN/MultiRNNCell/Cell0/LSTMCell/W_0 (DT_FLOAT) [138,400]',\n",
       " 'rnn_model/global_step (DT_INT32) []',\n",
       " 'rnn_model/fully_connected/weights (DT_FLOAT) [100,38]',\n",
       " 'rnn_model/RNN/MultiRNNCell/Cell0/LSTMCell/B (DT_FLOAT) [400]',\n",
       " '']"
      ]
     },
     "execution_count": 16,
     "metadata": {},
     "output_type": "execute_result"
    }
   ],
   "source": [
    "# read contents of checkpoint file\n",
    "reader = tf.train.NewCheckpointReader(CHECKPOINT_FILE)\n",
    "[str(x) for x in reader.debug_string().decode(\"utf-8\").split('\\n')]"
   ]
  },
  {
   "cell_type": "code",
   "execution_count": null,
   "metadata": {
    "collapsed": true
   },
   "outputs": [],
   "source": []
  }
 ],
 "metadata": {
  "kernelspec": {
   "display_name": "Python 2",
   "language": "python",
   "name": "python2"
  },
  "language_info": {
   "codemirror_mode": {
    "name": "ipython",
    "version": 2
   },
   "file_extension": ".py",
   "mimetype": "text/x-python",
   "name": "python",
   "nbconvert_exporter": "python",
   "pygments_lexer": "ipython2",
   "version": "2.7.10"
  }
 },
 "nbformat": 4,
 "nbformat_minor": 0
}

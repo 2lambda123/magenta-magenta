{
 "cells": [
  {
   "cell_type": "code",
   "execution_count": 1,
   "metadata": {
    "collapsed": false
   },
   "outputs": [],
   "source": [
    "import tensorflow as tf\n",
    "import magenta as mg\n",
    "import numpy as np\n",
    "import sys\n",
    "\n",
    "from magenta.lib import tf_lib"
   ]
  },
  {
   "cell_type": "code",
   "execution_count": 2,
   "metadata": {
    "collapsed": false
   },
   "outputs": [],
   "source": [
    "RL_PATH = \"/home/natasha/Developer/magenta_my_fork/magenta/magenta/models/rl_rnn\"\n",
    "SAVE_PATH = \"/home/natasha/Dropbox (MIT)/Google/Project\""
   ]
  },
  {
   "cell_type": "code",
   "execution_count": 24,
   "metadata": {
    "collapsed": false
   },
   "outputs": [],
   "source": [
    "sys.path.append(RL_PATH)\n",
    "import rl_tuner\n",
    "import rl_tuner_ops"
   ]
  },
  {
   "cell_type": "code",
   "execution_count": 30,
   "metadata": {
    "collapsed": false
   },
   "outputs": [],
   "source": [
    "# File locations\n",
    "CHECKPOINT_DIR = RL_PATH + '/testdata'\n",
    "CHECKPOINT_FILE = CHECKPOINT_DIR + '/model.ckpt-1994'\n",
    "MIDI_PRIMER = RL_PATH + '/testdata/primer.mid'\n",
    "OUTPUT_DIR = SAVE_PATH + '/rl_rnn_output'\n",
    "OUTPUT_CHECKPOINT_NAME = 'rl_tuner_model.ckpt'\n",
    "TRAINING_DATA_PATH = ''"
   ]
  },
  {
   "cell_type": "code",
   "execution_count": 26,
   "metadata": {
    "collapsed": false
   },
   "outputs": [],
   "source": [
    "# Model parameter settings\n",
    "hparams = rl_rnn_ops.small_model_hparams()\n",
    "PRIME_WITH_MIDI = False\n",
    "NUM_NOTES_IN_COMPOSITION = 32"
   ]
  },
  {
   "cell_type": "code",
   "execution_count": 27,
   "metadata": {
    "collapsed": true
   },
   "outputs": [],
   "source": [
    "dqn_hparams = tf_lib.HParams(random_action_probability=0.1,\n",
    "                         store_every_nth=1,\n",
    "                         train_every_nth=5,\n",
    "                         minibatch_size=32,\n",
    "                         discount_rate=0.5,\n",
    "                         max_experience=100000,\n",
    "                         target_network_update_rate=0.01)"
   ]
  },
  {
   "cell_type": "markdown",
   "metadata": {},
   "source": [
    "## Train network"
   ]
  },
  {
   "cell_type": "code",
   "execution_count": 33,
   "metadata": {
    "collapsed": false
   },
   "outputs": [],
   "source": [
    "reload(rl_rnn_ops)\n",
    "reload(melody_q)\n",
    "melody_q.reload_files()"
   ]
  },
  {
   "cell_type": "code",
   "execution_count": 34,
   "metadata": {
    "collapsed": false
   },
   "outputs": [
    {
     "name": "stderr",
     "output_type": "stream",
     "text": [
      "WARNING:tensorflow:<tensorflow.python.ops.rnn_cell.LSTMCell object at 0x7f6d85b2d390>: Using a concatenated state is slower and will soon be deprecated.  Use state_is_tuple=True.\n",
      "WARNING:tensorflow:<tensorflow.python.ops.rnn_cell.LSTMCell object at 0x7f6d86080dd0>: Using a concatenated state is slower and will soon be deprecated.  Use state_is_tuple=True.\n",
      "WARNING:tensorflow:<tensorflow.python.ops.rnn_cell.LSTMCell object at 0x7f6d85be7f90>: Using a concatenated state is slower and will soon be deprecated.  Use state_is_tuple=True.\n"
     ]
    },
    {
     "name": "stdout",
     "output_type": "stream",
     "text": [
      "checkpoint dir /home/natasha/Developer/magenta_my_fork/magenta/magenta/models/rl_rnn/testdata/train\n",
      "can't find checkpoint file, using backup, which is /home/natasha/Developer/magenta_my_fork/magenta/magenta/models/rl_rnn/testdata/model.ckpt-1994\n",
      "checkpoint file /home/natasha/Developer/magenta_my_fork/magenta/magenta/models/rl_rnn/testdata/model.ckpt-1994\n",
      "checkpoint dir /home/natasha/Developer/magenta_my_fork/magenta/magenta/models/rl_rnn/testdata/train\n",
      "can't find checkpoint file, using backup, which is /home/natasha/Developer/magenta_my_fork/magenta/magenta/models/rl_rnn/testdata/model.ckpt-1994\n",
      "checkpoint file /home/natasha/Developer/magenta_my_fork/magenta/magenta/models/rl_rnn/testdata/model.ckpt-1994\n",
      "checkpoint dir /home/natasha/Developer/magenta_my_fork/magenta/magenta/models/rl_rnn/testdata/train\n",
      "can't find checkpoint file, using backup, which is /home/natasha/Developer/magenta_my_fork/magenta/magenta/models/rl_rnn/testdata/model.ckpt-1994\n",
      "checkpoint file /home/natasha/Developer/magenta_my_fork/magenta/magenta/models/rl_rnn/testdata/model.ckpt-1994\n",
      "\n",
      "Successfully initialized internal networks from checkpointed model!\n"
     ]
    }
   ],
   "source": [
    "rl_net = melody_q.MelodyQNetwork(OUTPUT_DIR, OUTPUT_CHECKPOINT_NAME, CHECKPOINT_DIR,\n",
    "                                 MIDI_PRIMER, dqn_hparams=dqn_hparams, \n",
    "                                 reward_scaler=0.05,\n",
    "                                 \n",
    "                                 output_every_nth=10000, \n",
    "                                 training_file_list=[TRAINING_DATA_PATH],\n",
    "                                 backup_checkpoint_file=CHECKPOINT_FILE,\n",
    "                                 custom_hparams=hparams,\n",
    "                                 num_notes_in_melody=NUM_NOTES_IN_COMPOSITION,\n",
    "                                 stochastic_observations=False)"
   ]
  },
  {
   "cell_type": "code",
   "execution_count": 15,
   "metadata": {
    "collapsed": false
   },
   "outputs": [
    {
     "name": "stderr",
     "output_type": "stream",
     "text": [
      "WARNING:tensorflow:<tensorflow.python.ops.rnn_cell.LSTMCell object at 0x7f6dee027f10>: Using a concatenated state is slower and will soon be deprecated.  Use state_is_tuple=True.\n",
      "WARNING:tensorflow:<tensorflow.python.ops.rnn_cell.LSTMCell object at 0x7f6de821c390>: Using a concatenated state is slower and will soon be deprecated.  Use state_is_tuple=True.\n",
      "WARNING:tensorflow:<tensorflow.python.ops.rnn_cell.LSTMCell object at 0x7f6dbc63e990>: Using a concatenated state is slower and will soon be deprecated.  Use state_is_tuple=True.\n"
     ]
    },
    {
     "name": "stdout",
     "output_type": "stream",
     "text": [
      "checkpoint dir /home/natasha/Developer/magenta_my_fork/magenta/magenta/models/rl_rnn/testdata/train\n",
      "can't find checkpoint file, using backup, which is /home/natasha/Developer/magenta_my_fork/magenta/magenta/models/rl_rnn/testdata/model.ckpt-1994\n",
      "checkpoint file /home/natasha/Developer/magenta_my_fork/magenta/magenta/models/rl_rnn/testdata/model.ckpt-1994\n",
      "checkpoint dir /home/natasha/Developer/magenta_my_fork/magenta/magenta/models/rl_rnn/testdata/train\n",
      "can't find checkpoint file, using backup, which is /home/natasha/Developer/magenta_my_fork/magenta/magenta/models/rl_rnn/testdata/model.ckpt-1994\n",
      "checkpoint file /home/natasha/Developer/magenta_my_fork/magenta/magenta/models/rl_rnn/testdata/model.ckpt-1994\n",
      "checkpoint dir /home/natasha/Developer/magenta_my_fork/magenta/magenta/models/rl_rnn/testdata/train\n",
      "can't find checkpoint file, using backup, which is /home/natasha/Developer/magenta_my_fork/magenta/magenta/models/rl_rnn/testdata/model.ckpt-1994\n",
      "checkpoint file /home/natasha/Developer/magenta_my_fork/magenta/magenta/models/rl_rnn/testdata/model.ckpt-1994\n"
     ]
    }
   ],
   "source": [
    "# Generate initial music sequence before training with RL\n",
    "rl_net.generate_music_sequence(visualize_probs=True, title='pre_rl', length=32)"
   ]
  },
  {
   "cell_type": "code",
   "execution_count": null,
   "metadata": {
    "collapsed": true
   },
   "outputs": [],
   "source": [
    "rl_net.train(num_steps=1000000, exploration_period=500000)"
   ]
  },
  {
   "cell_type": "code",
   "execution_count": null,
   "metadata": {
    "collapsed": true
   },
   "outputs": [],
   "source": [
    "rl_net.plot_rewards()"
   ]
  },
  {
   "cell_type": "code",
   "execution_count": null,
   "metadata": {
    "collapsed": true
   },
   "outputs": [],
   "source": [
    "rl_net.generate_music_sequence(visualize_probs=True, title='post_rl')"
   ]
  },
  {
   "cell_type": "code",
   "execution_count": null,
   "metadata": {
    "collapsed": true
   },
   "outputs": [],
   "source": [
    "# If you're happy with the model, save a version!\n",
    "rl_net.save_model(BEST_MODELS_SAVE_DIR, 'my_cool_model')\n"
   ]
  },
  {
   "cell_type": "code",
   "execution_count": null,
   "metadata": {
    "collapsed": true
   },
   "outputs": [],
   "source": []
  },
  {
   "cell_type": "code",
   "execution_count": 40,
   "metadata": {
    "collapsed": true
   },
   "outputs": [],
   "source": [
    "from notebook.auth import passwd"
   ]
  },
  {
   "cell_type": "code",
   "execution_count": 41,
   "metadata": {
    "collapsed": false
   },
   "outputs": [
    {
     "name": "stdout",
     "output_type": "stream",
     "text": [
      "Enter password: ········\n",
      "Verify password: ········\n"
     ]
    },
    {
     "data": {
      "text/plain": [
       "'sha1:c0b9c657d1f7:af919b92fcdcdbdb9b755700f47521094bd8170d'"
      ]
     },
     "execution_count": 41,
     "metadata": {},
     "output_type": "execute_result"
    }
   ],
   "source": [
    "passwd()"
   ]
  },
  {
   "cell_type": "code",
   "execution_count": null,
   "metadata": {
    "collapsed": true
   },
   "outputs": [],
   "source": []
  }
 ],
 "metadata": {
  "kernelspec": {
   "display_name": "Python 2",
   "language": "python",
   "name": "python2"
  },
  "language_info": {
   "codemirror_mode": {
    "name": "ipython",
    "version": 2
   },
   "file_extension": ".py",
   "mimetype": "text/x-python",
   "name": "python",
   "nbconvert_exporter": "python",
   "pygments_lexer": "ipython2",
   "version": "2.7.12"
  }
 },
 "nbformat": 4,
 "nbformat_minor": 0
}

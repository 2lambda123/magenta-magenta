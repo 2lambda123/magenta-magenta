{
 "cells": [
  {
   "cell_type": "code",
   "execution_count": 1,
   "metadata": {
    "collapsed": false
   },
   "outputs": [],
   "source": [
    "import tensorflow as tf\n",
    "import magenta as mg\n",
    "import numpy as np\n",
    "import sys\n",
    "\n",
    "from magenta.common import tf_lib"
   ]
  },
  {
   "cell_type": "code",
   "execution_count": 2,
   "metadata": {
    "collapsed": false
   },
   "outputs": [],
   "source": [
    "RL_CODE_PATH = \"/home/natasha/Developer/magenta_my_fork/magenta/magenta/models/rl_tuner\""
   ]
  },
  {
   "cell_type": "code",
   "execution_count": 3,
   "metadata": {
    "collapsed": false
   },
   "outputs": [],
   "source": [
    "sys.path.append(RL_CODE_PATH)\n",
    "import rl_tuner\n",
    "import rl_tuner_ops"
   ]
  },
  {
   "cell_type": "code",
   "execution_count": 4,
   "metadata": {
    "collapsed": false
   },
   "outputs": [],
   "source": [
    "# File locations\n",
    "CHECKPOINT_DIR = RL_CODE_PATH + '/testdata'\n",
    "CHECKPOINT_FILE = CHECKPOINT_DIR + '/model.ckpt-1994'\n",
    "MIDI_PRIMER = RL_CODE_PATH + '/testdata/primer.mid'\n",
    "TRAINING_DATA_PATH = ''\n",
    "SAVE_PATH = \"/home/natasha/Dropbox (MIT)/Google/RL-RNN-Project/rl_rnn_output\""
   ]
  },
  {
   "cell_type": "code",
   "execution_count": 5,
   "metadata": {
    "collapsed": false
   },
   "outputs": [],
   "source": [
    "# Model parameter settings\n",
    "hparams = rl_tuner_ops.small_model_hparams()\n",
    "ALGORITHM = 'q'\n",
    "REWARD_SCALER = 1\n",
    "OUTPUT_EVERY_NTH = 50000\n",
    "NUM_NOTES_IN_COMPOSITION = 32\n",
    "PRIME_WITH_MIDI = False"
   ]
  },
  {
   "cell_type": "code",
   "execution_count": 6,
   "metadata": {
    "collapsed": true
   },
   "outputs": [],
   "source": [
    "rl_tuner_hparams = tf_lib.HParams(random_action_probability=0.1,\n",
    "                                  store_every_nth=1,\n",
    "                                  train_every_nth=5,\n",
    "                                  minibatch_size=32,\n",
    "                                  discount_rate=0.5,\n",
    "                                  max_experience=100000,\n",
    "                                  target_network_update_rate=0.01)"
   ]
  },
  {
   "cell_type": "markdown",
   "metadata": {},
   "source": [
    "## Train network"
   ]
  },
  {
   "cell_type": "code",
   "execution_count": 7,
   "metadata": {
    "collapsed": false
   },
   "outputs": [],
   "source": [
    "reload(rl_tuner_ops)\n",
    "reload(rl_tuner)\n",
    "rl_tuner.reload_files()"
   ]
  },
  {
   "cell_type": "code",
   "execution_count": 8,
   "metadata": {
    "collapsed": false
   },
   "outputs": [
    {
     "name": "stderr",
     "output_type": "stream",
     "text": [
      "WARNING:tensorflow:<tensorflow.python.ops.rnn_cell.LSTMCell object at 0x7f69866dd790>: Using a concatenated state is slower and will soon be deprecated.  Use state_is_tuple=True.\n",
      "WARNING:tensorflow:<tensorflow.python.ops.rnn_cell.LSTMCell object at 0x7f697c8c3b50>: Using a concatenated state is slower and will soon be deprecated.  Use state_is_tuple=True.\n",
      "WARNING:tensorflow:<tensorflow.python.ops.rnn_cell.LSTMCell object at 0x7f697c418a90>: Using a concatenated state is slower and will soon be deprecated.  Use state_is_tuple=True.\n"
     ]
    },
    {
     "name": "stdout",
     "output_type": "stream",
     "text": [
      "checkpoint dir /home/natasha/Developer/magenta_my_fork/magenta/magenta/models/rl_tuner/testdata/train\n",
      "can't find checkpoint file, using backup, which is /home/natasha/Developer/magenta_my_fork/magenta/magenta/models/rl_tuner/testdata/model.ckpt-1994\n",
      "checkpoint file /home/natasha/Developer/magenta_my_fork/magenta/magenta/models/rl_tuner/testdata/model.ckpt-1994\n",
      "checkpoint dir /home/natasha/Developer/magenta_my_fork/magenta/magenta/models/rl_tuner/testdata/train\n",
      "can't find checkpoint file, using backup, which is /home/natasha/Developer/magenta_my_fork/magenta/magenta/models/rl_tuner/testdata/model.ckpt-1994\n",
      "checkpoint file /home/natasha/Developer/magenta_my_fork/magenta/magenta/models/rl_tuner/testdata/model.ckpt-1994\n",
      "checkpoint dir /home/natasha/Developer/magenta_my_fork/magenta/magenta/models/rl_tuner/testdata/train\n",
      "can't find checkpoint file, using backup, which is /home/natasha/Developer/magenta_my_fork/magenta/magenta/models/rl_tuner/testdata/model.ckpt-1994\n",
      "checkpoint file /home/natasha/Developer/magenta_my_fork/magenta/magenta/models/rl_tuner/testdata/model.ckpt-1994\n",
      "\n",
      "Successfully initialized internal networks from checkpointed model!\n"
     ]
    }
   ],
   "source": [
    "rl_net = rl_tuner.RLTuner(SAVE_PATH, CHECKPOINT_DIR, MIDI_PRIMER, \n",
    "                          dqn_hparams=rl_tuner_hparams, \n",
    "                          algorithm=ALGORITHM,\n",
    "                          reward_scaler=REWARD_SCALER,\n",
    "                          output_every_nth=OUTPUT_EVERY_NTH, \n",
    "                          training_file_list=[TRAINING_DATA_PATH],\n",
    "                          backup_checkpoint_file=CHECKPOINT_FILE,\n",
    "                          custom_hparams=hparams,\n",
    "                          num_notes_in_melody=NUM_NOTES_IN_COMPOSITION)"
   ]
  },
  {
   "cell_type": "code",
   "execution_count": 9,
   "metadata": {
    "collapsed": false
   },
   "outputs": [
    {
     "name": "stdout",
     "output_type": "stream",
     "text": [
      "Generated sequence: [0, 0, 0, 0, 0, 0, 0, 0, 0, 0, 0, 0, 0, 0, 0, 0, 0, 0, 0, 0, 0, 0, 0, 0, 0, 0, 0, 0, 0, 0, 0, 0]\n"
     ]
    },
    {
     "data": {
      "image/png": "[encoded data removed]",
      "text/plain": [
       "<matplotlib.figure.Figure at 0x7f69866dd090>"
      ]
     },
     "metadata": {},
     "output_type": "display_data"
    }
   ],
   "source": [
    "# Generate initial music sequence before training with RL\n",
    "rl_net.generate_music_sequence(visualize_probs=True, title='pre_rl', length=32)"
   ]
  },
  {
   "cell_type": "code",
   "execution_count": null,
   "metadata": {
    "collapsed": false
   },
   "outputs": [
    {
     "name": "stdout",
     "output_type": "stream",
     "text": [
      "Evaluating initial model...\n",
      "Evaluating model...\n",
      "Training iteration 50000\n",
      "\tReward for last 50000 steps: -271424.017263\n",
      "\t\tMusic theory reward: -18886.8598238\n",
      "\t\tNote RNN reward: -252537.157439\n",
      "\tExploration probability is 0.9042382\n"
     ]
    }
   ],
   "source": [
    "rl_net.train(num_steps=1000000, exploration_period=500000)"
   ]
  },
  {
   "cell_type": "code",
   "execution_count": null,
   "metadata": {
    "collapsed": false
   },
   "outputs": [],
   "source": [
    "# Plot the rewards received during training. Improves as chance of random exploration action decreases.\n",
    "rl_net.plot_rewards()"
   ]
  },
  {
   "cell_type": "code",
   "execution_count": null,
   "metadata": {
    "collapsed": false
   },
   "outputs": [],
   "source": [
    "# Plot rewards received during calls to evaluation function throughout training. \n",
    "# Does not include exploration or random actions.\n",
    "rl_net.plot_evaluation()"
   ]
  },
  {
   "cell_type": "code",
   "execution_count": null,
   "metadata": {
    "collapsed": false
   },
   "outputs": [],
   "source": [
    "rl_net.generate_music_sequence(visualize_probs=True, title='post_rl')"
   ]
  },
  {
   "cell_type": "code",
   "execution_count": null,
   "metadata": {
    "collapsed": true
   },
   "outputs": [],
   "source": [
    "# If you're happy with the model, save a version!\n",
    "rl_net.save_model(SAVE_PATH, 'my_cool_model')"
   ]
  },
  {
   "cell_type": "code",
   "execution_count": null,
   "metadata": {
    "collapsed": true
   },
   "outputs": [],
   "source": [
    "# Compute statistics about how well the model adheres to the music theory rules.\n",
    "stat_dict = rl_net.evaluate_music_theory_metrics(num_compositions=100)"
   ]
  },
  {
   "cell_type": "code",
   "execution_count": null,
   "metadata": {
    "collapsed": true
   },
   "outputs": [],
   "source": []
  }
 ],
 "metadata": {
  "kernelspec": {
   "display_name": "Python 2",
   "language": "python",
   "name": "python2"
  },
  "language_info": {
   "codemirror_mode": {
    "name": "ipython",
    "version": 2
   },
   "file_extension": ".py",
   "mimetype": "text/x-python",
   "name": "python",
   "nbconvert_exporter": "python",
   "pygments_lexer": "ipython2",
   "version": "2.7.12"
  }
 },
 "nbformat": 4,
 "nbformat_minor": 0
}
